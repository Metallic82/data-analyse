{
 "cells": [
  {
   "cell_type": "code",
   "execution_count": 4,
   "metadata": {},
   "outputs": [
    {
     "name": "stdout",
     "output_type": "stream",
     "text": [
      "Enter N1000000\n",
      "68.2 68.1772\n"
     ]
    }
   ],
   "source": [
    "#Program to implement law of large numbers\n",
    "import numpy as np\n",
    "from numpy.random import randn\n",
    "count=0\n",
    "predictive_distri=68.200000\n",
    "N=int(input(\"Enter N\"))\n",
    "for i in range(N):\n",
    "    x=randn()\n",
    "    if(-1<x<1):\n",
    "        count+=1\n",
    "estimated_distri=count*100.0000/N\n",
    "print(predictive_distri,estimated_distri)"
   ]
  },
  {
   "cell_type": "code",
   "execution_count": null,
   "metadata": {
    "collapsed": true
   },
   "outputs": [],
   "source": []
  }
 ],
 "metadata": {
  "kernelspec": {
   "display_name": "Python 3",
   "language": "python",
   "name": "python3"
  },
  "language_info": {
   "codemirror_mode": {
    "name": "ipython",
    "version": 3
   },
   "file_extension": ".py",
   "mimetype": "text/x-python",
   "name": "python",
   "nbconvert_exporter": "python",
   "pygments_lexer": "ipython3",
   "version": "3.6.1"
  }
 },
 "nbformat": 4,
 "nbformat_minor": 2
}
